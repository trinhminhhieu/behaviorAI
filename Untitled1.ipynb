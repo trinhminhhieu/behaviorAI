{
 "cells": [
  {
   "cell_type": "code",
   "execution_count": 9,
   "id": "ad807a77",
   "metadata": {},
   "outputs": [],
   "source": [
    "import numpy as np\n",
    "import matplotlib\n",
    "import matplotlib.pyplot as plt\n",
    "from sklearn import metrics\n",
    "import pandas as pd\n",
    "\n",
    "from IPython.core.interactiveshell import InteractiveShell\n",
    "InteractiveShell.ast_node_interactivity = \"all\"\n",
    "\n",
    "from sklearn.model_selection import train_test_split\n",
    "from sklearn.model_selection import GridSearchCV\n",
    "from sklearn.metrics import classification_report\n",
    "from sklearn.metrics import confusion_matrix\n",
    "from sklearn.svm import SVC #may vecto\n",
    "\n",
    "from scipy import signal\n",
    "\n",
    "\n",
    "feature_names = ['mean_x', 'mean_y', 'mean_z',\n",
    "                 'mean_x2', 'mean_y2', 'mean_z2',\n",
    "                 'rms_x', 'rms_y', 'rms_z',\n",
    "                 'rms_x2', 'rms_y2', 'rms_z2',\n",
    "                 'std_x', 'std_y', 'std_z',\n",
    "                 'std_x2', 'std_y2', 'std_z2',\n",
    "                 'min_x', 'min_y', 'min_z',\n",
    "                 'min_x2', 'min_y2', 'min_z2',\n",
    "                 'max_x', 'max_y', 'max_z',\n",
    "                 'max_x2', 'max_y2', 'max_z2'] #total array = 30\n",
    "\n",
    "target_names = ['Feeding', 'Lying', 'Standing', 'Normal_walking']\n",
    "\n",
    "#doi so at va fs\n",
    "#at-action\n",
    "\n",
    "def featuresFromBuffer(at, fs):\n",
    "    feat = np.zeros(36) #30 o day la size of feature_names\n",
    "    x = np.array(at.iloc[:,0], dtype=np.float64)   # x acceleration component (leg)\n",
    "    y = np.array(at.iloc[:,1], dtype=np.float64)   # y\n",
    "    z = np.array(at.iloc[:,2], dtype=np.float64)   # z\n",
    "    x2 = np.array(at.iloc[:,3], dtype=np.float64)   # x2 acceleration component (collar)\n",
    "    y2 = np.array(at.iloc[:,4], dtype=np.float64)   # y2\n",
    "    z2 = np.array(at.iloc[:,5], dtype=np.float64)   # z2\n",
    "\n",
    "    \n",
    "# np.mean()\n",
    "\n",
    "    # Average value in signal buffer for all three acceleration components (1 each)    \n",
    "    means = [np.mean(i) for i in [x, y, z]]\n",
    "    feat[0:3] = means\n",
    "    means2 = [np.mean(i) for i in [x2, y2, z2]]\n",
    "    feat[3:6] = means2\n",
    "    # RMS value in signal buffer for all three acceleration components (1 each)\n",
    "    rms = [np.sqrt(np.mean(i**2)) for i in [x, y, z]]\n",
    "    feat[6:9] = rms\n",
    "    rms2 = [np.sqrt(np.mean(i**2)) for i in [x2, y2, z2]]\n",
    "    feat[9:12] = rms2\n",
    "#    np.std()\n",
    "\n",
    "    # Standard deviation\n",
    "    std = [np.std(i) for i in [x, y, z]]\n",
    "    feat[12:15] = std\n",
    "    std2 = [np.std(i) for i in [x2, y2, z2]]\n",
    "    feat[15:18] = std2 \n",
    "\n",
    "    # Variance\n",
    "    #var = [np.var(i) for i in [x, y, z]]\n",
    "    #feat[9:12] = var\n",
    "    \n",
    "    # Median\n",
    "    #med = [np.median(i) for i in [x, y, z]]\n",
    "    #feat[12:15] = med\n",
    "    \n",
    "#     np.amin()\n",
    "\n",
    "    # Range\n",
    "    Range1 = [ np.amin(i) for i in [x, y, z]]    \n",
    "    feat[18:21] = Range1\n",
    "    Range2 = [ np.amax(i) for i in [x, y, z]]    \n",
    "    feat[21:24] = Range2\n",
    "    Range12 = [ np.amin(i) for i in [x2, y2, z2]]    \n",
    "    feat[24:27] = Range12\n",
    "    Range22 = [ np.amax(i) for i in [x2, y2, z2]]    \n",
    "    feat[27:30] = Range22\n",
    "#np.median()\n",
    "\n",
    "    # Median\n",
    "    med = [np.median(i) for i in [x, y, z]]\n",
    "    feat[30:33] = med\n",
    "    med2 = [np.median(i) for i in [x2, y2, z2]]\n",
    "    feat[33:36] = med2\n",
    "        \n",
    "    return feat\n"
   ]
  },
  {
   "cell_type": "code",
   "execution_count": 10,
   "id": "1265f8e7",
   "metadata": {},
   "outputs": [],
   "source": [
    "# Import data|read_excel|read_csv\n",
    " \n",
    "df = pd.read_excel('4CowData_2sensor.xlsx')"
   ]
  },
  {
   "cell_type": "code",
   "execution_count": 11,
   "id": "7ab656a6",
   "metadata": {},
   "outputs": [],
   "source": [
    "# Prepare data\n",
    "\n",
    "Feeding = df[['Feeding', 'Unnamed: 1', 'Unnamed: 2', 'Unnamed: 3', 'Unnamed: 4', 'Unnamed: 5']]\n",
    "Feeding = Feeding.dropna() # Acc in x,y,z\n",
    "Feeding.index = pd.RangeIndex(len(Feeding.index))\n",
    "Feeding = Feeding.drop(0) \n",
    "\n",
    "\n",
    "Lying = df[['Lying', 'Unnamed: 7', 'Unnamed: 8', 'Unnamed: 9', 'Unnamed: 10', 'Unnamed: 11']]\n",
    "Lying = Lying.dropna()\n",
    "Lying.index = pd.RangeIndex(len(Lying.index))\n",
    "Lying = Lying.drop(0)\n",
    "\n",
    "Standing = df[['Standing', 'Unnamed: 13', 'Unnamed: 14', 'Unnamed: 15', 'Unnamed: 16', 'Unnamed: 17']]\n",
    "Standing = Standing.dropna()\n",
    "Standing.index = pd.RangeIndex(len(Standing.index))\n",
    "Standing = Standing.drop(0)\n",
    "\n",
    "Normal_walking = df[['Normal_walking', 'Unnamed: 19', 'Unnamed: 20', 'Unnamed: 21', 'Unnamed: 22', 'Unnamed: 23']]\n",
    "Normal_walking = Normal_walking.dropna()\n",
    "Normal_walking.index = pd.RangeIndex(len(Normal_walking.index))\n",
    "Normal_walking = Normal_walking.drop(0)"
   ]
  },
  {
   "cell_type": "code",
   "execution_count": 12,
   "id": "5cf4937c",
   "metadata": {},
   "outputs": [
    {
     "name": "stdout",
     "output_type": "stream",
     "text": [
      "Y_feeding_Train:  447\n",
      "X_feeding_Test:  298\n",
      "Y_lying_Train:  80\n",
      "X_lying_Test:  54\n",
      "Y_standing_Train:  658\n",
      "X_standing_Test:  440\n",
      "Y_walking_Train:  202\n",
      "X_walking_Test:  135\n",
      "Total: \n",
      "\n",
      "Train:  1387\n",
      "Test:  927\n"
     ]
    }
   ],
   "source": [
    "window_size = 16 \n",
    "stride = 6 #\n",
    "#nb_samples = int(len(Feeding)*1.0) #100%\n",
    "train_ratio = 0.6 #60% \n",
    "ratio_test = 0.4\n",
    "\n",
    "\n",
    "behavior_feeding = [Feeding[i:i+window_size] for i in range(0, int(len(Feeding)), stride) if i+window_size<=int(len(Feeding))]\n",
    "X_feeding_train, X_feeding_test = train_test_split(behavior_feeding, train_size=0.6) \n",
    "\n",
    "behavior_lying = [Lying[i:i+window_size] for i in range(0, int(len(Lying)), stride) if i+window_size<=int(len(Feeding))]\n",
    "X_lying_train, X_lying_test = train_test_split(behavior_lying, train_size=0.6) \n",
    "\n",
    "behavior_standing = [Standing[i:i+window_size] for i in range(0, int(len(Standing)), stride) if i+window_size<=int(len(Standing))]\n",
    "X_standing_train, X_standing_test = train_test_split(behavior_standing, train_size=0.6) \n",
    "\n",
    "behavior_walking = [Normal_walking[i:i+window_size] for i in range(0, int(len(Normal_walking)), stride) if i+window_size<=int(len(Normal_walking))]\n",
    "X_normalw_train, X_normalw_test = train_test_split(behavior_walking ,train_size=0.6) \n",
    "\n",
    "# X_lying_train = [Lying[i:i+window_size] for i in range(0, lyi, stride) if i+window_size<=int(len(Lying))]\n",
    "# X_lying_test = [Lying[i:i+window_size] for i in range(int(len(Lying)*train_ratio), len(Lying), stride) if i+window_size<=len(Lying)]\n",
    "\n",
    "# X_standing_train = [Standing[i:i+window_size] for i in range(0, sta, stride) if i+window_size<=int(len(Standing))]\n",
    "# X_standing_test = [Standing[i:i+window_size] for i in range(int(len(Standing)*train_ratio), len(Standing), stride) if i+window_size<=len(Standing)]\n",
    "\n",
    "# X_normalw_train = [Normal_walking[i:i+window_size] for i in range(0, nor, stride) if i+window_size<=int(len(Normal_walking))]\n",
    "# X_normalw_test = [Normal_walking[i:i+window_size] for i in range(int(len(Normal_walking)*train_ratio), len(Normal_walking), stride) if i+window_size<=len(Normal_walking)]\n",
    "\n",
    "\n",
    "print('Y_feeding_Train: ', len(X_feeding_train)) #X\n",
    "print('X_feeding_Test: ', len(X_feeding_test)) #y\n",
    "\n",
    "print('Y_lying_Train: ', len(X_lying_train)) #X\n",
    "print('X_lying_Test: ', len(X_lying_test)) #y\n",
    "\n",
    "print('Y_standing_Train: ', len(X_standing_train)) #X\n",
    "print('X_standing_Test: ', len(X_standing_test)) #y\n",
    "\n",
    "print('Y_walking_Train: ', len(X_normalw_train)) #X\n",
    "print('X_walking_Test: ', len(X_normalw_test)) #y\n",
    "\n",
    "print('Total: \\n')\n",
    "print('Train: ', len(X_feeding_train)+len(X_lying_train)+len(X_standing_train)+len(X_normalw_train))\n",
    "print('Test: ', len(X_feeding_test)+len(X_lying_test)+len(X_standing_test)+ len(X_normalw_test)) \n"
   ]
  },
  {
   "cell_type": "code",
   "execution_count": 13,
   "id": "0cdc8b4d",
   "metadata": {},
   "outputs": [
    {
     "name": "stdout",
     "output_type": "stream",
     "text": [
      "my-train-data's length:  1387\n",
      "my-train-lable's length:  1387\n",
      "my-test-data's length:  927\n",
      "my-test-lable's length:  927\n"
     ]
    }
   ],
   "source": [
    "#Catch 'em all\n",
    "\n",
    "my_train_data = []\n",
    "my_train_lable = []\n",
    "\n",
    "my_test_data = []\n",
    "my_test_lable = []\n",
    "\n",
    "for acts in X_feeding_train:\n",
    "    my_train_data.append(acts)\n",
    "    my_train_lable.append(0)\n",
    "\n",
    "for acts in X_lying_train:\n",
    "    my_train_data.append(acts)\n",
    "    my_train_lable.append(1)\n",
    "    \n",
    "for acts in X_standing_train:\n",
    "    my_train_data.append(acts)\n",
    "    my_train_lable.append(2)  \n",
    "\n",
    "for acts in X_normalw_train:\n",
    "    my_train_data.append(acts)\n",
    "    my_train_lable.append(3)\n",
    "\n",
    "    \n",
    "print('my-train-data\\'s length: ', len(my_train_data) )\n",
    "print('my-train-lable\\'s length: ', len(my_train_lable) )\n",
    "\n",
    "#Catch 'em all\n",
    "\n",
    "for acts in X_feeding_test:\n",
    "    my_test_data.append(acts)\n",
    "    my_test_lable.append(0)\n",
    "\n",
    "for acts in X_lying_test:\n",
    "    my_test_data.append(acts)\n",
    "    my_test_lable.append(1)\n",
    "    \n",
    "for acts in X_standing_test:\n",
    "    my_test_data.append(acts)\n",
    "    my_test_lable.append(2)\n",
    "\n",
    "for acts in X_normalw_test:\n",
    "    my_test_data.append(acts)\n",
    "    my_test_lable.append(3)\n",
    "    \n",
    "print('my-test-data\\'s length: ', len(my_test_data) )\n",
    "print('my-test-lable\\'s length: ', len(my_test_lable) )"
   ]
  },
  {
   "cell_type": "code",
   "execution_count": 14,
   "id": "5d2c9a07",
   "metadata": {},
   "outputs": [
    {
     "data": {
      "text/plain": [
       "1387"
      ]
     },
     "execution_count": 14,
     "metadata": {},
     "output_type": "execute_result"
    },
    {
     "data": {
      "text/plain": [
       "927"
      ]
     },
     "execution_count": 14,
     "metadata": {},
     "output_type": "execute_result"
    }
   ],
   "source": [
    "train_features = []\n",
    "test_features = []\n",
    "\n",
    "for action in my_train_data:\n",
    "    feat = featuresFromBuffer(action, 1)\n",
    "    train_features.append(feat)\n",
    "\n",
    "for action in my_test_data:\n",
    "    feat = featuresFromBuffer(action, 1)\n",
    "    test_features.append(feat)\n",
    "    \n",
    "len(train_features)\n",
    "len(test_features)"
   ]
  },
  {
   "cell_type": "code",
   "execution_count": 17,
   "id": "a2bcd6a4",
   "metadata": {},
   "outputs": [
    {
     "name": "stdout",
     "output_type": "stream",
     "text": [
      "Decision Tree stuffs:\n",
      "Accuracy of Decision Tree classifier on training set: 0.955\n",
      "Accuracy of Decision Tree classifier on test set: 0.940\n",
      "\n",
      "\n",
      "Decision Tree DTBD stuffs:\n",
      "Accuracy of GBDT classifier on training set: 1.000\n",
      "Accuracy of GBDT classifier on test set: 0.956\n",
      "\n",
      "\n",
      "SVM stuffs:\n",
      "Accuracy on training set: 0.97\n",
      "Accuracy on test set: 0.96\n",
      "\n",
      "\n",
      " Random Forests stuffs: \n"
     ]
    },
    {
     "data": {
      "text/plain": [
       "RandomForestClassifier(n_estimators=25, random_state=0)"
      ]
     },
     "execution_count": 17,
     "metadata": {},
     "output_type": "execute_result"
    },
    {
     "name": "stdout",
     "output_type": "stream",
     "text": [
      "Accuracy of RF classifier on training set: 0.999\n",
      "Accuracy of RF classifier on test set: 0.955\n",
      "\n",
      "\n",
      " KNeighbor stuffs: \n"
     ]
    },
    {
     "data": {
      "text/plain": [
       "KNeighborsClassifier()"
      ]
     },
     "execution_count": 17,
     "metadata": {},
     "output_type": "execute_result"
    },
    {
     "name": "stdout",
     "output_type": "stream",
     "text": [
      "Accuracy of K-NN classifier on training set: 0.98\n",
      "Accuracy of K-NN classifier on test set: 0.96\n"
     ]
    }
   ],
   "source": [
    "# beginning of classification:\n",
    "\n",
    "print(\"Decision Tree stuffs:\")\n",
    "from sklearn.tree import DecisionTreeClassifier #\n",
    "\n",
    "clf2 = DecisionTreeClassifier(max_depth=4).fit(train_features, my_train_lable)\n",
    "\n",
    "print('Accuracy of Decision Tree classifier on training set: {:.3f}'\n",
    "     .format(clf2.score(train_features, my_train_lable)))\n",
    "print('Accuracy of Decision Tree classifier on test set: {:.3f}'\n",
    "     .format(clf2.score(test_features, my_test_lable)))\n",
    "\n",
    "\n",
    "print(\"\\n\\nDecision Tree DTBD stuffs:\")\n",
    "from sklearn.ensemble import GradientBoostingClassifier\n",
    "clf1 = GradientBoostingClassifier(learning_rate=0.5, max_depth=3, n_estimators=100).fit(train_features, my_train_lable)\n",
    "\n",
    "print('Accuracy of GBDT classifier on training set: {:.3f}'\n",
    "     .format(clf1.score(train_features, my_train_lable)))\n",
    "print('Accuracy of GBDT classifier on test set: {:.3f}'\n",
    "     .format(clf1.score(test_features, my_test_lable)))\n",
    "\n",
    "\n",
    "print(\"\\n\\nSVM stuffs:\")\n",
    "this_C = 100\n",
    "clf = SVC(C=this_C).fit(train_features, my_train_lable)\n",
    "print(\"Accuracy on training set: {:.2f}\".format(clf.score(train_features, my_train_lable)))\n",
    "print(\"Accuracy on test set: {:.2f}\".format(clf.score(test_features, my_test_lable)))\n",
    "\n",
    "\n",
    "\n",
    "print('\\n\\n Random Forests stuffs: ')\n",
    "from sklearn.ensemble import RandomForestClassifier \n",
    "clf5 = RandomForestClassifier(n_estimators=25, random_state=0) \n",
    "clf5.fit(train_features, my_train_lable)\n",
    "\n",
    "print('Accuracy of RF classifier on training set: {:.3f}'\n",
    "     .format(clf5.score(train_features, my_train_lable)))\n",
    "print('Accuracy of RF classifier on test set: {:.3f}'\n",
    "     .format(clf5.score(test_features, my_test_lable)))\n",
    "\n",
    "\n",
    "print('\\n\\n KNeighbor stuffs: ')\n",
    "from sklearn.neighbors import KNeighborsClassifier\n",
    "\n",
    "# K-means\n",
    "knn = KNeighborsClassifier(n_neighbors = 5)\n",
    "knn.fit(train_features, my_train_lable)\n",
    "print('Accuracy of K-NN classifier on training set: {:.2f}'\n",
    "     .format(knn.score(train_features, my_train_lable)))\n",
    "print('Accuracy of K-NN classifier on test set: {:.2f}'\n",
    "     .format(knn.score(test_features, my_test_lable)))"
   ]
  },
  {
   "cell_type": "code",
   "execution_count": 18,
   "id": "a3545972",
   "metadata": {},
   "outputs": [
    {
     "data": {
      "text/plain": [
       "array([[280,   0,  18,   0],\n",
       "       [  0,  54,   0,   0],\n",
       "       [ 21,   0, 418,   1],\n",
       "       [  0,   0,   1, 134]], dtype=int64)"
      ]
     },
     "execution_count": 18,
     "metadata": {},
     "output_type": "execute_result"
    },
    {
     "data": {
      "text/plain": [
       "<Figure size 1080x720 with 0 Axes>"
      ]
     },
     "execution_count": 18,
     "metadata": {},
     "output_type": "execute_result"
    },
    {
     "data": {
      "text/plain": [
       "<AxesSubplot:>"
      ]
     },
     "execution_count": 18,
     "metadata": {},
     "output_type": "execute_result"
    },
    {
     "data": {
      "text/plain": [
       "Text(0.5, 1.0, 'Decision Tree \\nAccuracy:0.956')"
      ]
     },
     "execution_count": 18,
     "metadata": {},
     "output_type": "execute_result"
    },
    {
     "data": {
      "text/plain": [
       "Text(114.0, 0.5, 'True label')"
      ]
     },
     "execution_count": 18,
     "metadata": {},
     "output_type": "execute_result"
    },
    {
     "data": {
      "text/plain": [
       "Text(0.5, 69.0, 'Predicted label')"
      ]
     },
     "execution_count": 18,
     "metadata": {},
     "output_type": "execute_result"
    },
    {
     "name": "stdout",
     "output_type": "stream",
     "text": [
      "              precision    recall  f1-score   support\n",
      "\n",
      "           0       0.93      0.94      0.93       298\n",
      "           1       1.00      1.00      1.00        54\n",
      "           2       0.96      0.95      0.95       440\n",
      "           3       0.99      0.99      0.99       135\n",
      "\n",
      "    accuracy                           0.96       927\n",
      "   macro avg       0.97      0.97      0.97       927\n",
      "weighted avg       0.96      0.96      0.96       927\n",
      "\n"
     ]
    },
    {
     "data": {
      "image/png": "[encoded data removed]",
      "text/plain": [
       "<Figure size 1080x720 with 2 Axes>"
      ]
     },
     "metadata": {
      "needs_background": "light"
     },
     "output_type": "display_data"
    }
   ],
   "source": [
    "# make color\n",
    "\n",
    "import seaborn as sns\n",
    "from matplotlib import cm\n",
    "from sklearn.metrics import accuracy_score, precision_score, recall_score, f1_score\n",
    "\n",
    "# confusion matrices:\n",
    "# predicted = clf1.predict(test_features)\n",
    "# clf2 = DT\n",
    "import pandas as pd\n",
    "\n",
    "\n",
    "# y_actu = pd.Series(my_test_lable, name='Actual')\n",
    "# y_pred = pd.Series(predicted, name='Predicted')\n",
    "# pd.crosstab(y_actu, y_pred)\n",
    "\n",
    "\n",
    "predicted = clf1.predict(test_features)\n",
    "\n",
    "confusion_test = confusion_matrix(my_test_lable, predicted)\n",
    "\n",
    "confusion_matrix(my_test_lable, predicted)\n",
    "\n",
    "df_cm = pd.DataFrame(confusion_test,\n",
    "                    index = [i for i in range(1, 5)], columns = [i for i in range(1, 5)])\n",
    "\n",
    "\n",
    "plt.figure(figsize=(15,10))\n",
    "\n",
    "sns.heatmap(df_cm, annot=True)\n",
    "\n",
    "plt.title('Decision Tree \\nAccuracy:{0:.3f}'.format(accuracy_score(my_test_lable, \n",
    "                                                                       predicted)))\n",
    "plt.ylabel('True label')\n",
    "plt.xlabel('Predicted label')\n",
    "\n",
    "from sklearn.metrics import classification_report\n",
    "print(classification_report(my_test_lable, predicted))"
   ]
  },
  {
   "cell_type": "code",
   "execution_count": null,
   "id": "fae75868",
   "metadata": {},
   "outputs": [],
   "source": []
  }
 ],
 "metadata": {
  "kernelspec": {
   "display_name": "Python 3",
   "language": "python",
   "name": "python3"
  },
  "language_info": {
   "codemirror_mode": {
    "name": "ipython",
    "version": 3
   },
   "file_extension": ".py",
   "mimetype": "text/x-python",
   "name": "python",
   "nbconvert_exporter": "python",
   "pygments_lexer": "ipython3",
   "version": "3.8.8"
  }
 },
 "nbformat": 4,
 "nbformat_minor": 5
}
